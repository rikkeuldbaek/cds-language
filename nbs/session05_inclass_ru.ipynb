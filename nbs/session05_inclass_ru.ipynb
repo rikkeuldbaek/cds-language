{
 "cells": [
  {
   "cell_type": "markdown",
   "metadata": {},
   "source": [
    "# Simple text classification using ```scikit-learn```"
   ]
  },
  {
   "cell_type": "markdown",
   "metadata": {},
   "source": [
    "## Import packages\n"
   ]
  },
  {
   "cell_type": "code",
   "execution_count": 13,
   "metadata": {
    "execution": {
     "iopub.execute_input": "2022-03-28T12:12:39.290472Z",
     "iopub.status.busy": "2022-03-28T12:12:39.289514Z",
     "iopub.status.idle": "2022-03-28T12:12:40.122230Z",
     "shell.execute_reply": "2022-03-28T12:12:40.121210Z",
     "shell.execute_reply.started": "2022-03-28T12:12:39.290416Z"
    },
    "tags": []
   },
   "outputs": [],
   "source": [
    "# system tools\n",
    "import os\n",
    "import sys\n",
    "sys.path.append(\"..\")\n",
    "\n",
    "# data munging tools\n",
    "import pandas as pd\n",
    "#import utils.classifier_utils as clf\n",
    "\n",
    "# Machine learning stuff\n",
    "from sklearn.feature_extraction.text import CountVectorizer, TfidfVectorizer\n",
    "from sklearn.linear_model import LogisticRegression\n",
    "from sklearn.neural_network import MLPClassifier\n",
    "from sklearn.model_selection import train_test_split, ShuffleSplit\n",
    "from sklearn import metrics\n",
    "\n",
    "# Visualisation\n",
    "import matplotlib.pyplot as plt"
   ]
  },
  {
   "cell_type": "markdown",
   "metadata": {},
   "source": [
    "## Reading in the data"
   ]
  },
  {
   "attachments": {},
   "cell_type": "markdown",
   "metadata": {},
   "source": [
    "Our data is already in a tabular format, so we're going to load it using ```pandas```"
   ]
  },
  {
   "cell_type": "code",
   "execution_count": 14,
   "metadata": {
    "execution": {
     "iopub.execute_input": "2022-03-28T12:15:21.036862Z",
     "iopub.status.busy": "2022-03-28T12:15:21.036359Z",
     "iopub.status.idle": "2022-03-28T12:15:21.362233Z",
     "shell.execute_reply": "2022-03-28T12:15:21.361431Z",
     "shell.execute_reply.started": "2022-03-28T12:15:21.036815Z"
    },
    "tags": []
   },
   "outputs": [],
   "source": [
    "filename = os.path.join(\"..\", \"..\", \"..\", \"431868\", \"classification_data\", \"fake_or_real_news.csv\")\n",
    "\n",
    "data = pd.read_csv(filename, index_col=0)"
   ]
  },
  {
   "cell_type": "code",
   "execution_count": 15,
   "metadata": {
    "execution": {
     "iopub.execute_input": "2022-03-28T12:20:59.125409Z",
     "iopub.status.busy": "2022-03-28T12:20:59.124923Z",
     "iopub.status.idle": "2022-03-28T12:20:59.131919Z",
     "shell.execute_reply": "2022-03-28T12:20:59.130910Z",
     "shell.execute_reply.started": "2022-03-28T12:20:59.125362Z"
    },
    "tags": []
   },
   "outputs": [],
   "source": [
    "X = data[\"text\"]\n",
    "y = data[\"label\"]"
   ]
  },
  {
   "attachments": {},
   "cell_type": "markdown",
   "metadata": {},
   "source": [
    "## Train-test split"
   ]
  },
  {
   "attachments": {},
   "cell_type": "markdown",
   "metadata": {},
   "source": [
    "Looking back at the code from last week, use the ```train_test_split()``` function to create an 80/20 split in the data."
   ]
  },
  {
   "cell_type": "code",
   "execution_count": 16,
   "metadata": {
    "execution": {
     "iopub.execute_input": "2022-03-28T12:36:32.795905Z",
     "iopub.status.busy": "2022-03-28T12:36:32.795208Z",
     "iopub.status.idle": "2022-03-28T12:36:32.806564Z",
     "shell.execute_reply": "2022-03-28T12:36:32.805223Z",
     "shell.execute_reply.started": "2022-03-28T12:36:32.795854Z"
    },
    "tags": []
   },
   "outputs": [],
   "source": [
    "X_train, X_test, y_train, y_test = train_test_split(X,           # texts for the model\n",
    "                                                    y,          # classification labels\n",
    "                                                    test_size=0.2,   # create an 80/20 split\n",
    "                                                    random_state=42) # random state for reproducibility"
   ]
  },
  {
   "attachments": {},
   "cell_type": "markdown",
   "metadata": {},
   "source": [
    "## Vectorizing and Feature Extraction"
   ]
  },
  {
   "cell_type": "markdown",
   "metadata": {},
   "source": [
    "__Create vectorizer object__"
   ]
  },
  {
   "attachments": {},
   "cell_type": "markdown",
   "metadata": {},
   "source": [
    "Next, you want to create a vectorizer object. I suggest the following parameters:\n",
    "\n",
    "- TfidfVectorizer on unigrams and bigrams;\n",
    "- make everything lowercase; \n",
    "- remove top and bottom 5% of words; \n",
    "- keep the top 500 features."
   ]
  },
  {
   "cell_type": "code",
   "execution_count": 5,
   "metadata": {
    "execution": {
     "iopub.execute_input": "2022-03-28T13:17:17.502500Z",
     "iopub.status.busy": "2022-03-28T13:17:17.502011Z",
     "iopub.status.idle": "2022-03-28T13:17:17.570253Z",
     "shell.execute_reply": "2022-03-28T13:17:17.569510Z",
     "shell.execute_reply.started": "2022-03-28T13:17:17.502455Z"
    },
    "tags": []
   },
   "outputs": [],
   "source": [
    "vectorizer = TfidfVectorizer(ngram_range = (1,2),     # unigrams and bigrams (1 word and 2 word units)\n",
    "                             lowercase =  True,       # why use lowercase?\n",
    "                             max_df = 0.95,           # remove very common words\n",
    "                             min_df = 0.05,           # remove very rare words\n",
    "                             max_features = 500)      # keep only top 100 features\n"
   ]
  },
  {
   "cell_type": "markdown",
   "metadata": {},
   "source": [
    "This vectorizer is then used to turn all of our documents into a vector of numbers, instead of text."
   ]
  },
  {
   "cell_type": "code",
   "execution_count": 7,
   "metadata": {
    "execution": {
     "iopub.execute_input": "2022-03-28T13:17:23.170332Z",
     "iopub.status.busy": "2022-03-28T13:17:23.169719Z",
     "iopub.status.idle": "2022-03-28T13:17:26.600365Z",
     "shell.execute_reply": "2022-03-28T13:17:26.599006Z",
     "shell.execute_reply.started": "2022-03-28T13:17:23.170284Z"
    },
    "tags": []
   },
   "outputs": [],
   "source": [
    "# first we fit the vectorizer to the training data...\n",
    "X_train_feats = vectorizer.fit_transform(X_train)\n",
    "\n",
    "#... then transform our test data\n",
    "X_test_feats = vectorizer.transform(X_test)\n",
    "\n",
    "# get feature names if needed\n",
    "feature_names = vectorizer.get_feature_names_out()"
   ]
  },
  {
   "cell_type": "code",
   "execution_count": 11,
   "metadata": {},
   "outputs": [
    {
     "data": {
      "text/plain": [
       "array(['000', '10', '11', '2016', 'about', 'about the', 'according',\n",
       "       'according to', 'across', 'act', 'actually', 'administration',\n",
       "       'after', 'after the', 'again', 'against', 'ago', 'all', 'all of',\n",
       "       'all the', 'already', 'also', 'america', 'american', 'americans',\n",
       "       'among', 'an', 'and', 'and it', 'and that', 'and the', 'another',\n",
       "       'anti', 'any', 'are', 'around', 'as', 'as the', 'as well', 'asked',\n",
       "       'at', 'at least', 'at the', 'attack', 'attacks', 'away', 'back',\n",
       "       'based', 'be', 'because'], dtype=object)"
      ]
     },
     "execution_count": 11,
     "metadata": {},
     "output_type": "execute_result"
    }
   ],
   "source": [
    "#first fitty feature names\n",
    "feature_names[:50]"
   ]
  },
  {
   "cell_type": "markdown",
   "metadata": {},
   "source": [
    "## Classifying and predicting"
   ]
  },
  {
   "cell_type": "markdown",
   "metadata": {},
   "source": [
    "We now have to 'fit' the classifier to our data. This means that the classifier takes our data and finds correlations between features and labels.\n",
    "\n",
    "These correlations are then the *model* that the classifier learns about our data. This model can then be used to predict the label for new, unseen data."
   ]
  },
  {
   "attachments": {},
   "cell_type": "markdown",
   "metadata": {},
   "source": [
    "__Simple neural network__\n",
    "\n",
    "We can define simple NN classifiers using the ```MLPClassifier``` class in ```scikit-learn```. I've done that for you here - can you see how it's been put together?\n",
    "\n",
    "For more information, check out the documentation [here](https://scikit-learn.org/stable/modules/generated/sklearn.neural_network.MLPClassifier.html)."
   ]
  },
  {
   "cell_type": "code",
   "execution_count": 12,
   "metadata": {
    "execution": {
     "iopub.execute_input": "2022-03-28T13:17:31.431697Z",
     "iopub.status.busy": "2022-03-28T13:17:31.431195Z",
     "iopub.status.idle": "2022-03-28T13:17:31.466813Z",
     "shell.execute_reply": "2022-03-28T13:17:31.466126Z",
     "shell.execute_reply.started": "2022-03-28T13:17:31.431650Z"
    },
    "tags": []
   },
   "outputs": [],
   "source": [
    "classifier = MLPClassifier(activation = \"logistic\", #logistic --> binary output and use sigmoid function\n",
    "                           hidden_layer_sizes = (20,), #20 hidden layers\n",
    "                           max_iter=1000, # updating weights 1000 times\n",
    "                           random_state = 42) # set.seed"
   ]
  },
  {
   "cell_type": "code",
   "execution_count": 13,
   "metadata": {},
   "outputs": [
    {
     "data": {
      "text/html": [
       "<style>#sk-container-id-1 {color: black;background-color: white;}#sk-container-id-1 pre{padding: 0;}#sk-container-id-1 div.sk-toggleable {background-color: white;}#sk-container-id-1 label.sk-toggleable__label {cursor: pointer;display: block;width: 100%;margin-bottom: 0;padding: 0.3em;box-sizing: border-box;text-align: center;}#sk-container-id-1 label.sk-toggleable__label-arrow:before {content: \"▸\";float: left;margin-right: 0.25em;color: #696969;}#sk-container-id-1 label.sk-toggleable__label-arrow:hover:before {color: black;}#sk-container-id-1 div.sk-estimator:hover label.sk-toggleable__label-arrow:before {color: black;}#sk-container-id-1 div.sk-toggleable__content {max-height: 0;max-width: 0;overflow: hidden;text-align: left;background-color: #f0f8ff;}#sk-container-id-1 div.sk-toggleable__content pre {margin: 0.2em;color: black;border-radius: 0.25em;background-color: #f0f8ff;}#sk-container-id-1 input.sk-toggleable__control:checked~div.sk-toggleable__content {max-height: 200px;max-width: 100%;overflow: auto;}#sk-container-id-1 input.sk-toggleable__control:checked~label.sk-toggleable__label-arrow:before {content: \"▾\";}#sk-container-id-1 div.sk-estimator input.sk-toggleable__control:checked~label.sk-toggleable__label {background-color: #d4ebff;}#sk-container-id-1 div.sk-label input.sk-toggleable__control:checked~label.sk-toggleable__label {background-color: #d4ebff;}#sk-container-id-1 input.sk-hidden--visually {border: 0;clip: rect(1px 1px 1px 1px);clip: rect(1px, 1px, 1px, 1px);height: 1px;margin: -1px;overflow: hidden;padding: 0;position: absolute;width: 1px;}#sk-container-id-1 div.sk-estimator {font-family: monospace;background-color: #f0f8ff;border: 1px dotted black;border-radius: 0.25em;box-sizing: border-box;margin-bottom: 0.5em;}#sk-container-id-1 div.sk-estimator:hover {background-color: #d4ebff;}#sk-container-id-1 div.sk-parallel-item::after {content: \"\";width: 100%;border-bottom: 1px solid gray;flex-grow: 1;}#sk-container-id-1 div.sk-label:hover label.sk-toggleable__label {background-color: #d4ebff;}#sk-container-id-1 div.sk-serial::before {content: \"\";position: absolute;border-left: 1px solid gray;box-sizing: border-box;top: 0;bottom: 0;left: 50%;z-index: 0;}#sk-container-id-1 div.sk-serial {display: flex;flex-direction: column;align-items: center;background-color: white;padding-right: 0.2em;padding-left: 0.2em;position: relative;}#sk-container-id-1 div.sk-item {position: relative;z-index: 1;}#sk-container-id-1 div.sk-parallel {display: flex;align-items: stretch;justify-content: center;background-color: white;position: relative;}#sk-container-id-1 div.sk-item::before, #sk-container-id-1 div.sk-parallel-item::before {content: \"\";position: absolute;border-left: 1px solid gray;box-sizing: border-box;top: 0;bottom: 0;left: 50%;z-index: -1;}#sk-container-id-1 div.sk-parallel-item {display: flex;flex-direction: column;z-index: 1;position: relative;background-color: white;}#sk-container-id-1 div.sk-parallel-item:first-child::after {align-self: flex-end;width: 50%;}#sk-container-id-1 div.sk-parallel-item:last-child::after {align-self: flex-start;width: 50%;}#sk-container-id-1 div.sk-parallel-item:only-child::after {width: 0;}#sk-container-id-1 div.sk-dashed-wrapped {border: 1px dashed gray;margin: 0 0.4em 0.5em 0.4em;box-sizing: border-box;padding-bottom: 0.4em;background-color: white;}#sk-container-id-1 div.sk-label label {font-family: monospace;font-weight: bold;display: inline-block;line-height: 1.2em;}#sk-container-id-1 div.sk-label-container {text-align: center;}#sk-container-id-1 div.sk-container {/* jupyter's `normalize.less` sets `[hidden] { display: none; }` but bootstrap.min.css set `[hidden] { display: none !important; }` so we also need the `!important` here to be able to override the default hidden behavior on the sphinx rendered scikit-learn.org. See: https://github.com/scikit-learn/scikit-learn/issues/21755 */display: inline-block !important;position: relative;}#sk-container-id-1 div.sk-text-repr-fallback {display: none;}</style><div id=\"sk-container-id-1\" class=\"sk-top-container\"><div class=\"sk-text-repr-fallback\"><pre>MLPClassifier(activation=&#x27;logistic&#x27;, hidden_layer_sizes=(20,), max_iter=1000,\n",
       "              random_state=42)</pre><b>In a Jupyter environment, please rerun this cell to show the HTML representation or trust the notebook. <br />On GitHub, the HTML representation is unable to render, please try loading this page with nbviewer.org.</b></div><div class=\"sk-container\" hidden><div class=\"sk-item\"><div class=\"sk-estimator sk-toggleable\"><input class=\"sk-toggleable__control sk-hidden--visually\" id=\"sk-estimator-id-1\" type=\"checkbox\" checked><label for=\"sk-estimator-id-1\" class=\"sk-toggleable__label sk-toggleable__label-arrow\">MLPClassifier</label><div class=\"sk-toggleable__content\"><pre>MLPClassifier(activation=&#x27;logistic&#x27;, hidden_layer_sizes=(20,), max_iter=1000,\n",
       "              random_state=42)</pre></div></div></div></div></div>"
      ],
      "text/plain": [
       "MLPClassifier(activation='logistic', hidden_layer_sizes=(20,), max_iter=1000,\n",
       "              random_state=42)"
      ]
     },
     "execution_count": 13,
     "metadata": {},
     "output_type": "execute_result"
    }
   ],
   "source": [
    "#fitting the model\n",
    "classifier.fit(X_train_feats, y_train)"
   ]
  },
  {
   "attachments": {},
   "cell_type": "markdown",
   "metadata": {},
   "source": [
    "__Get predictions__\n",
    "\n",
    "We want to use our trained model to get predicted labels on our test data."
   ]
  },
  {
   "cell_type": "code",
   "execution_count": 14,
   "metadata": {
    "execution": {
     "iopub.execute_input": "2022-03-28T13:17:32.957309Z",
     "iopub.status.busy": "2022-03-28T13:17:32.956823Z",
     "iopub.status.idle": "2022-03-28T13:17:32.963699Z",
     "shell.execute_reply": "2022-03-28T13:17:32.962708Z",
     "shell.execute_reply.started": "2022-03-28T13:17:32.957263Z"
    },
    "tags": []
   },
   "outputs": [],
   "source": [
    "y_pred = classifier.predict(X_test_feats) # predictions of Y"
   ]
  },
  {
   "cell_type": "code",
   "execution_count": 15,
   "metadata": {},
   "outputs": [
    {
     "data": {
      "text/plain": [
       "array(['FAKE', 'FAKE', 'FAKE', 'FAKE', 'FAKE', 'FAKE', 'REAL', 'FAKE',\n",
       "       'REAL', 'REAL', 'REAL', 'REAL', 'REAL', 'FAKE', 'FAKE', 'FAKE',\n",
       "       'FAKE', 'REAL', 'FAKE', 'FAKE', 'REAL', 'REAL', 'FAKE', 'FAKE',\n",
       "       'REAL', 'FAKE', 'FAKE', 'FAKE', 'FAKE', 'REAL', 'REAL', 'FAKE',\n",
       "       'FAKE', 'FAKE', 'FAKE', 'REAL', 'FAKE', 'FAKE', 'REAL', 'REAL',\n",
       "       'REAL', 'REAL', 'REAL', 'FAKE', 'FAKE', 'REAL', 'FAKE', 'REAL',\n",
       "       'FAKE', 'FAKE'], dtype='<U4')"
      ]
     },
     "execution_count": 15,
     "metadata": {},
     "output_type": "execute_result"
    }
   ],
   "source": [
    "y_pred[:50]"
   ]
  },
  {
   "cell_type": "markdown",
   "metadata": {},
   "source": [
    "## Evaluate"
   ]
  },
  {
   "cell_type": "markdown",
   "metadata": {},
   "source": [
    "We can also do some quick calculations, in order to assess just how well our model performs."
   ]
  },
  {
   "cell_type": "code",
   "execution_count": 34,
   "metadata": {
    "execution": {
     "iopub.execute_input": "2022-03-28T13:18:02.772412Z",
     "iopub.status.busy": "2022-03-28T13:18:02.771808Z",
     "iopub.status.idle": "2022-03-28T13:18:02.862766Z",
     "shell.execute_reply": "2022-03-28T13:18:02.862174Z",
     "shell.execute_reply.started": "2022-03-28T13:18:02.772365Z"
    },
    "scrolled": true,
    "tags": []
   },
   "outputs": [
    {
     "data": {
      "text/plain": [
       "<sklearn.metrics._plot.confusion_matrix.ConfusionMatrixDisplay at 0x7f11d5ce15e0>"
      ]
     },
     "execution_count": 34,
     "metadata": {},
     "output_type": "execute_result"
    },
    {
     "data": {
      "image/png": "[encoded data removed]",
      "text/plain": [
       "<Figure size 640x480 with 2 Axes>"
      ]
     },
     "metadata": {},
     "output_type": "display_data"
    }
   ],
   "source": [
    "# use confusion matrix to check performance\n",
    "metrics.ConfusionMatrixDisplay.from_estimator(classifier,           # the classifier name\n",
    "                                            X_train_feats,          # the training features\n",
    "                                            y_train,                # the training labels\n",
    "                                            cmap=plt.cm.Blues,      # make the colours prettier\n",
    "                                            labels=[\"FAKE\", \"REAL\"])# the labels in your data arranged alphabetically"
   ]
  },
  {
   "attachments": {},
   "cell_type": "markdown",
   "metadata": {},
   "source": [
    "__Calculating metrics__"
   ]
  },
  {
   "attachments": {},
   "cell_type": "markdown",
   "metadata": {},
   "source": [
    "We can use the same built-in classification report from ```scikit-learn``` to get the classification report for our model."
   ]
  },
  {
   "cell_type": "code",
   "execution_count": 17,
   "metadata": {
    "execution": {
     "iopub.execute_input": "2022-03-28T13:18:22.267289Z",
     "iopub.status.busy": "2022-03-28T13:18:22.266672Z",
     "iopub.status.idle": "2022-03-28T13:18:22.292665Z",
     "shell.execute_reply": "2022-03-28T13:18:22.292035Z",
     "shell.execute_reply.started": "2022-03-28T13:18:22.267241Z"
    },
    "tags": []
   },
   "outputs": [
    {
     "name": "stdout",
     "output_type": "stream",
     "text": [
      "              precision    recall  f1-score   support\n",
      "\n",
      "        FAKE       0.90      0.87      0.88       628\n",
      "        REAL       0.87      0.90      0.89       639\n",
      "\n",
      "    accuracy                           0.89      1267\n",
      "   macro avg       0.89      0.89      0.89      1267\n",
      "weighted avg       0.89      0.89      0.89      1267\n",
      "\n"
     ]
    }
   ],
   "source": [
    "# get classification report\n",
    "classifier_metrics = metrics.classification_report(y_test, y_pred) #loss function\n",
    "print(classifier_metrics) #over all accuracy 0.89 \n"
   ]
  },
  {
   "attachments": {},
   "cell_type": "markdown",
   "metadata": {},
   "source": [
    "__Plotting loss curves__\n",
    "\n",
    "If our model is learning well, we should see a smooth, steep downwards slope which tapers off towards a plateau. "
   ]
  },
  {
   "cell_type": "code",
   "execution_count": 20,
   "metadata": {},
   "outputs": [
    {
     "data": {
      "text/plain": [
       "[<matplotlib.lines.Line2D at 0x7f11d5e01190>]"
      ]
     },
     "execution_count": 20,
     "metadata": {},
     "output_type": "execute_result"
    },
    {
     "data": {
      "image/png": "[encoded data removed]",
      "text/plain": [
       "<Figure size 640x480 with 1 Axes>"
      ]
     },
     "metadata": {},
     "output_type": "display_data"
    }
   ],
   "source": [
    "plt.plot(classifier.loss_curve_)"
   ]
  },
  {
   "attachments": {},
   "cell_type": "markdown",
   "metadata": {},
   "source": [
    "## Save models\n",
    "\n",
    "As last week, it's possible to save an ```MLPClassifier``` model for later use using the library ```joblib```."
   ]
  },
  {
   "cell_type": "code",
   "execution_count": 21,
   "metadata": {
    "execution": {
     "iopub.execute_input": "2022-03-28T13:23:43.082858Z",
     "iopub.status.busy": "2022-03-28T13:23:43.082337Z",
     "iopub.status.idle": "2022-03-28T13:23:43.093599Z",
     "shell.execute_reply": "2022-03-28T13:23:43.092722Z",
     "shell.execute_reply.started": "2022-03-28T13:23:43.082808Z"
    }
   },
   "outputs": [
    {
     "data": {
      "text/plain": [
       "['tfidf_vectorizer.joblib']"
      ]
     },
     "execution_count": 21,
     "metadata": {},
     "output_type": "execute_result"
    }
   ],
   "source": [
    "from joblib import dump, load\n",
    "dump(classifier, \"LR_classifier.joblib\")\n",
    "dump(vectorizer, \"tfidf_vectorizer.joblib\")"
   ]
  },
  {
   "attachments": {},
   "cell_type": "markdown",
   "metadata": {},
   "source": [
    "We can restart the kernel for our notebook to see how that works:"
   ]
  },
  {
   "cell_type": "code",
   "execution_count": 22,
   "metadata": {
    "execution": {
     "iopub.execute_input": "2022-03-28T13:24:43.930596Z",
     "iopub.status.busy": "2022-03-28T13:24:43.930071Z",
     "iopub.status.idle": "2022-03-28T13:24:43.939338Z",
     "shell.execute_reply": "2022-03-28T13:24:43.938266Z",
     "shell.execute_reply.started": "2022-03-28T13:24:43.930532Z"
    }
   },
   "outputs": [],
   "source": [
    "from joblib import dump, load\n",
    "loaded_clf = load(\"LR_classifier.joblib\")\n",
    "loaded_vect = load(\"tfidf_vectorizer.joblib\")"
   ]
  },
  {
   "cell_type": "markdown",
   "metadata": {},
   "source": [
    "# Comparing TF-IDF with BoW "
   ]
  },
  {
   "cell_type": "markdown",
   "metadata": {},
   "source": [
    "### Bag of Words approach"
   ]
  },
  {
   "cell_type": "markdown",
   "metadata": {},
   "source": [
    "Make a vectorizer (bag of words)"
   ]
  },
  {
   "cell_type": "code",
   "execution_count": 37,
   "metadata": {
    "execution": {
     "iopub.execute_input": "2022-03-28T13:25:28.017733Z",
     "iopub.status.busy": "2022-03-28T13:25:28.017226Z",
     "iopub.status.idle": "2022-03-28T13:25:28.023554Z",
     "shell.execute_reply": "2022-03-28T13:25:28.022552Z",
     "shell.execute_reply.started": "2022-03-28T13:25:28.017686Z"
    },
    "tags": []
   },
   "outputs": [],
   "source": [
    "bow_vectorizer = CountVectorizer(ngram_range = (1,2),     # unigrams and bigrams (1 word and 2 word units) så \"to New York\", new står ved siden af \"to\" og \"york\"\n",
    "                             lowercase =  True,       # why use lowercase?\n",
    "                             max_df = 0.95,           # remove very common words, fjerne alt der occurs i 95% af teksterne (stopwords)\n",
    "                             min_df = 0.05,           # remove very rare words, fjerne alt der occurs i 5% af teksterne (OUTLIERS) (rare words, der ikke biddrager til classification, men til overfitting)\n",
    "                             max_features = 500)      # keep only top 100 features (after removal of all above), this creates a 100 dimension vector\n",
    "\n",
    "# basically gives 500 words (in a vectorizer) in the data that we wanna predict"
   ]
  },
  {
   "cell_type": "markdown",
   "metadata": {},
   "source": [
    "### Extract features"
   ]
  },
  {
   "cell_type": "code",
   "execution_count": 38,
   "metadata": {},
   "outputs": [],
   "source": [
    "# first we fit the vectorizer to the training data...\n",
    "X_train_feats = bow_vectorizer.fit_transform(X_train)\n",
    "\n",
    "#... then transform our test data\n",
    "X_test_feats = bow_vectorizer.transform(X_test)\n",
    "\n",
    "# get feature names if needed\n",
    "feature_names = bow_vectorizer.get_feature_names_out()"
   ]
  },
  {
   "cell_type": "markdown",
   "metadata": {},
   "source": [
    "### Make a classifier from the bag of words model"
   ]
  },
  {
   "cell_type": "code",
   "execution_count": 27,
   "metadata": {
    "execution": {
     "iopub.execute_input": "2022-03-28T13:27:18.798236Z",
     "iopub.status.busy": "2022-03-28T13:27:18.797749Z",
     "iopub.status.idle": "2022-03-28T13:27:18.810310Z",
     "shell.execute_reply": "2022-03-28T13:27:18.807453Z",
     "shell.execute_reply.started": "2022-03-28T13:27:18.798190Z"
    },
    "tags": []
   },
   "outputs": [],
   "source": [
    "classifier = MLPClassifier(activation = \"logistic\", #logistic --> binary output and use sigmoid function\n",
    "                           hidden_layer_sizes = (20,10), #20 hiddenlayer of 20 nodes, the number after the comma is another hidden layer of 10\n",
    "                           max_iter=1000, # updating weights 1000 times\n",
    "                           random_state = 42) # set.seed"
   ]
  },
  {
   "cell_type": "code",
   "execution_count": 28,
   "metadata": {},
   "outputs": [
    {
     "data": {
      "text/html": [
       "<style>#sk-container-id-2 {color: black;background-color: white;}#sk-container-id-2 pre{padding: 0;}#sk-container-id-2 div.sk-toggleable {background-color: white;}#sk-container-id-2 label.sk-toggleable__label {cursor: pointer;display: block;width: 100%;margin-bottom: 0;padding: 0.3em;box-sizing: border-box;text-align: center;}#sk-container-id-2 label.sk-toggleable__label-arrow:before {content: \"▸\";float: left;margin-right: 0.25em;color: #696969;}#sk-container-id-2 label.sk-toggleable__label-arrow:hover:before {color: black;}#sk-container-id-2 div.sk-estimator:hover label.sk-toggleable__label-arrow:before {color: black;}#sk-container-id-2 div.sk-toggleable__content {max-height: 0;max-width: 0;overflow: hidden;text-align: left;background-color: #f0f8ff;}#sk-container-id-2 div.sk-toggleable__content pre {margin: 0.2em;color: black;border-radius: 0.25em;background-color: #f0f8ff;}#sk-container-id-2 input.sk-toggleable__control:checked~div.sk-toggleable__content {max-height: 200px;max-width: 100%;overflow: auto;}#sk-container-id-2 input.sk-toggleable__control:checked~label.sk-toggleable__label-arrow:before {content: \"▾\";}#sk-container-id-2 div.sk-estimator input.sk-toggleable__control:checked~label.sk-toggleable__label {background-color: #d4ebff;}#sk-container-id-2 div.sk-label input.sk-toggleable__control:checked~label.sk-toggleable__label {background-color: #d4ebff;}#sk-container-id-2 input.sk-hidden--visually {border: 0;clip: rect(1px 1px 1px 1px);clip: rect(1px, 1px, 1px, 1px);height: 1px;margin: -1px;overflow: hidden;padding: 0;position: absolute;width: 1px;}#sk-container-id-2 div.sk-estimator {font-family: monospace;background-color: #f0f8ff;border: 1px dotted black;border-radius: 0.25em;box-sizing: border-box;margin-bottom: 0.5em;}#sk-container-id-2 div.sk-estimator:hover {background-color: #d4ebff;}#sk-container-id-2 div.sk-parallel-item::after {content: \"\";width: 100%;border-bottom: 1px solid gray;flex-grow: 1;}#sk-container-id-2 div.sk-label:hover label.sk-toggleable__label {background-color: #d4ebff;}#sk-container-id-2 div.sk-serial::before {content: \"\";position: absolute;border-left: 1px solid gray;box-sizing: border-box;top: 0;bottom: 0;left: 50%;z-index: 0;}#sk-container-id-2 div.sk-serial {display: flex;flex-direction: column;align-items: center;background-color: white;padding-right: 0.2em;padding-left: 0.2em;position: relative;}#sk-container-id-2 div.sk-item {position: relative;z-index: 1;}#sk-container-id-2 div.sk-parallel {display: flex;align-items: stretch;justify-content: center;background-color: white;position: relative;}#sk-container-id-2 div.sk-item::before, #sk-container-id-2 div.sk-parallel-item::before {content: \"\";position: absolute;border-left: 1px solid gray;box-sizing: border-box;top: 0;bottom: 0;left: 50%;z-index: -1;}#sk-container-id-2 div.sk-parallel-item {display: flex;flex-direction: column;z-index: 1;position: relative;background-color: white;}#sk-container-id-2 div.sk-parallel-item:first-child::after {align-self: flex-end;width: 50%;}#sk-container-id-2 div.sk-parallel-item:last-child::after {align-self: flex-start;width: 50%;}#sk-container-id-2 div.sk-parallel-item:only-child::after {width: 0;}#sk-container-id-2 div.sk-dashed-wrapped {border: 1px dashed gray;margin: 0 0.4em 0.5em 0.4em;box-sizing: border-box;padding-bottom: 0.4em;background-color: white;}#sk-container-id-2 div.sk-label label {font-family: monospace;font-weight: bold;display: inline-block;line-height: 1.2em;}#sk-container-id-2 div.sk-label-container {text-align: center;}#sk-container-id-2 div.sk-container {/* jupyter's `normalize.less` sets `[hidden] { display: none; }` but bootstrap.min.css set `[hidden] { display: none !important; }` so we also need the `!important` here to be able to override the default hidden behavior on the sphinx rendered scikit-learn.org. See: https://github.com/scikit-learn/scikit-learn/issues/21755 */display: inline-block !important;position: relative;}#sk-container-id-2 div.sk-text-repr-fallback {display: none;}</style><div id=\"sk-container-id-2\" class=\"sk-top-container\"><div class=\"sk-text-repr-fallback\"><pre>MLPClassifier(activation=&#x27;logistic&#x27;, hidden_layer_sizes=(20,), max_iter=1000,\n",
       "              random_state=42)</pre><b>In a Jupyter environment, please rerun this cell to show the HTML representation or trust the notebook. <br />On GitHub, the HTML representation is unable to render, please try loading this page with nbviewer.org.</b></div><div class=\"sk-container\" hidden><div class=\"sk-item\"><div class=\"sk-estimator sk-toggleable\"><input class=\"sk-toggleable__control sk-hidden--visually\" id=\"sk-estimator-id-2\" type=\"checkbox\" checked><label for=\"sk-estimator-id-2\" class=\"sk-toggleable__label sk-toggleable__label-arrow\">MLPClassifier</label><div class=\"sk-toggleable__content\"><pre>MLPClassifier(activation=&#x27;logistic&#x27;, hidden_layer_sizes=(20,), max_iter=1000,\n",
       "              random_state=42)</pre></div></div></div></div></div>"
      ],
      "text/plain": [
       "MLPClassifier(activation='logistic', hidden_layer_sizes=(20,), max_iter=1000,\n",
       "              random_state=42)"
      ]
     },
     "execution_count": 28,
     "metadata": {},
     "output_type": "execute_result"
    }
   ],
   "source": [
    "#fitting the model\n",
    "classifier.fit(X_train_feats, y_train)"
   ]
  },
  {
   "cell_type": "markdown",
   "metadata": {},
   "source": [
    "### Get predictions"
   ]
  },
  {
   "cell_type": "code",
   "execution_count": 29,
   "metadata": {},
   "outputs": [],
   "source": [
    "y_pred = classifier.predict(X_test_feats) # predictions of Y"
   ]
  },
  {
   "cell_type": "markdown",
   "metadata": {},
   "source": [
    "### Evaluate\n",
    "Why use training data (x and y) and not test ?? \n",
    "- We do this in order to choose the best and most realistic model  (THAT  WE THEN APPLY TO THE TEST DATA)"
   ]
  },
  {
   "cell_type": "code",
   "execution_count": 36,
   "metadata": {},
   "outputs": [
    {
     "data": {
      "text/plain": [
       "<sklearn.metrics._plot.confusion_matrix.ConfusionMatrixDisplay at 0x7f11cd948580>"
      ]
     },
     "execution_count": 36,
     "metadata": {},
     "output_type": "execute_result"
    },
    {
     "data": {
      "image/png": "[encoded data removed]",
      "text/plain": [
       "<Figure size 640x480 with 2 Axes>"
      ]
     },
     "metadata": {},
     "output_type": "display_data"
    }
   ],
   "source": [
    "# use confusion matrix to check performance\n",
    "metrics.ConfusionMatrixDisplay.from_estimator(classifier,           # the classifier name\n",
    "                                            X_train_feats,          # the training features\n",
    "                                            y_train,                # the training labels\n",
    "                                            cmap=plt.cm.Blues,      # make the colours prettier\n",
    "                                            labels=[\"FAKE\", \"REAL\"])# the labels in your data arranged alphabetically"
   ]
  },
  {
   "cell_type": "markdown",
   "metadata": {},
   "source": [
    "The BoW seems to perform better on the *training* data (but what it essential does -the BOW- is that it overfits). However both models TF-IDF and BoW seems to perform equally good on the *test*  data :))\n",
    "\n",
    "- Remember we neva eva eva want 100% accuracy, because then its OvErFitTiNg ://///\n"
   ]
  },
  {
   "cell_type": "markdown",
   "metadata": {},
   "source": [
    "### Calculating metrics of BOW model"
   ]
  },
  {
   "cell_type": "code",
   "execution_count": 31,
   "metadata": {},
   "outputs": [
    {
     "name": "stdout",
     "output_type": "stream",
     "text": [
      "              precision    recall  f1-score   support\n",
      "\n",
      "        FAKE       0.90      0.87      0.88       628\n",
      "        REAL       0.87      0.90      0.89       639\n",
      "\n",
      "    accuracy                           0.89      1267\n",
      "   macro avg       0.89      0.89      0.89      1267\n",
      "weighted avg       0.89      0.89      0.89      1267\n",
      "\n"
     ]
    }
   ],
   "source": [
    "# get classification report\n",
    "classifier_metrics = metrics.classification_report(y_test, y_pred) #loss function\n",
    "print(classifier_metrics) #over all accuracy 0.89 "
   ]
  },
  {
   "cell_type": "markdown",
   "metadata": {},
   "source": [
    "The BoW and TF-IDF vectorizer seems to perform equally \"good\". The accuracy score is both 89 in both models."
   ]
  },
  {
   "cell_type": "markdown",
   "metadata": {},
   "source": [
    "### Plot loss curves\n",
    "\n",
    "If our model is learning well, we should see a smooth, steep downwards slope which tapers off towards a plateau. "
   ]
  },
  {
   "cell_type": "code",
   "execution_count": 32,
   "metadata": {},
   "outputs": [
    {
     "data": {
      "text/plain": [
       "[<matplotlib.lines.Line2D at 0x7f11d67c9a00>]"
      ]
     },
     "execution_count": 32,
     "metadata": {},
     "output_type": "execute_result"
    },
    {
     "data": {
      "image/png": "[encoded data removed]",
      "text/plain": [
       "<Figure size 640x480 with 1 Axes>"
      ]
     },
     "metadata": {},
     "output_type": "display_data"
    }
   ],
   "source": [
    "plt.plot(classifier.loss_curve_) \n",
    "# x-axis= interations (we defined 1000 itterations, but it stopped at 300 itterations, if it went further it would converge)"
   ]
  },
  {
   "cell_type": "markdown",
   "metadata": {},
   "source": [
    "### Save models"
   ]
  },
  {
   "cell_type": "code",
   "execution_count": null,
   "metadata": {},
   "outputs": [],
   "source": [
    "from joblib import dump, load\n",
    "dump(classifier, \"LR_classifier.joblib\")\n",
    "dump(bow_vectorizer, \"bow_vectorizer.joblib\")\n",
    "#if I restart my notebook, I have now saved my models that I can reload them and use them imediately. See below"
   ]
  },
  {
   "cell_type": "markdown",
   "metadata": {},
   "source": [
    "### Restart kernel"
   ]
  },
  {
   "cell_type": "code",
   "execution_count": null,
   "metadata": {},
   "outputs": [],
   "source": [
    "from joblib import dump, load\n",
    "loaded_clf = load(\"LR_classifier.joblib\")\n",
    "loaded_vect = load(\"tfidf_vectorizer.joblib\")"
   ]
  },
  {
   "cell_type": "markdown",
   "metadata": {},
   "source": [
    "Okiii:) So what happens if we tweak on some of the parameters: max and min df (when vectorizing), and defining differents amount of hidden layers in the classifier (classifier-step)"
   ]
  }
 ],
 "metadata": {
  "kernelspec": {
   "display_name": "Python 3",
   "language": "python",
   "name": "python3"
  },
  "language_info": {
   "codemirror_mode": {
    "name": "ipython",
    "version": 3
   },
   "file_extension": ".py",
   "mimetype": "text/x-python",
   "name": "python",
   "nbconvert_exporter": "python",
   "pygments_lexer": "ipython3",
   "version": "3.9.2"
  },
  "vscode": {
   "interpreter": {
    "hash": "767d51c1340bd893661ea55ea3124f6de3c7a262a8b4abca0554b478b1e2ff90"
   }
  }
 },
 "nbformat": 4,
 "nbformat_minor": 4
}
